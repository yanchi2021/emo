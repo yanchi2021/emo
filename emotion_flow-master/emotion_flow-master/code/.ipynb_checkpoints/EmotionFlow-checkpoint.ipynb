{
 "cells": [
  {
   "cell_type": "code",
   "execution_count": 20,
   "metadata": {},
   "outputs": [
    {
     "data": {
      "text/plain": [
       "'theano'"
      ]
     },
     "execution_count": 20,
     "metadata": {},
     "output_type": "execute_result"
    }
   ],
   "source": [
    "import keras\n",
    "keras.backend.backend()"
   ]
  },
  {
   "cell_type": "code",
   "execution_count": 21,
   "metadata": {},
   "outputs": [],
   "source": [
    "from sklearn import preprocessing\n",
    "import numpy as np\n",
    "from readers.data_reader import Dataset\n",
    "from experiments.emotion_flow_exp import ExperimentSentimentAttentionMT\n",
    "import sys\n",
    "from sklearn.metrics import f1_score"
   ]
  },
  {
   "cell_type": "code",
   "execution_count": 22,
   "metadata": {},
   "outputs": [],
   "source": [
    "model_root='../models/'\n",
    "\n",
    "model='sf_mt_50_checked_model.hdf5'\n",
    "\n",
    "param={'recurrent_units': 64, 'recurrent_dropout': 0.3, 'recurrent_activation': 'tanh', 'patience': 25, \n",
    "       'lr': 0.001, 'initializer': 'lecun_uniform', 'genre_emb_size': 32, 'epochs': 100, 'dropout_1': 0.2,\n",
    "       'dropout': 0.2, 'batch_size': 1, 'attention_units': 64}"
   ]
  },
  {
   "cell_type": "code",
   "execution_count": 23,
   "metadata": {},
   "outputs": [],
   "source": [
    "feature_lst=['nrc_mean_sd_50_all'] \n",
    "\n",
    "dataset = Dataset(features=feature_lst, label_extractor='success_genre', genre=False)"
   ]
  },
  {
   "cell_type": "code",
   "execution_count": 24,
   "metadata": {},
   "outputs": [],
   "source": [
    "X_train, Y_train = dataset.get_training_data()\n",
    "X_val, Y_val = dataset.get_validaiontion_data()\n",
    "X_test, Y_test = dataset.get_test_data()\n",
    "\n",
    "le = preprocessing.LabelEncoder()\n",
    "\n",
    "Y_train['success_output'] = le.fit_transform(Y_train['success_output'])\n",
    "Y_val['success_output'] = le.transform(Y_val['success_output'])\n",
    "Y_test['success_output'] = le.transform(Y_test['success_output'])\n",
    "\n",
    "Y_test_books=dataset.info['test_books']\n",
    "Y_test_Genre= dataset.info['Y_test'][:,1]"
   ]
  },
  {
   "cell_type": "code",
   "execution_count": 25,
   "metadata": {},
   "outputs": [
    {
     "name": "stdout",
     "output_type": "stream",
     "text": [
      "Feature: nrc_mean_sd_50_all\n",
      "Traning shape nrc_mean_sd_50_all:(555, 50, 20)\n",
      "Val shape nrc_mean_sd_50_all:(139, 50, 20)\n",
      "Test shape nrc_mean_sd_50_all:(290, 50, 20)\n",
      "\n"
     ]
    }
   ],
   "source": [
    "for feature in set(feature_lst) :\n",
    "    print(\"Feature: {}\".format(feature))\n",
    "    print(\"Traning shape {}:{}\".format(feature, X_train[feature].shape))\n",
    "    print(\"Val shape {}:{}\".format(feature, X_val[feature].shape))\n",
    "    print(\"Test shape {}:{}\".format(feature, X_test[feature].shape))\n",
    "    print()"
   ]
  },
  {
   "cell_type": "code",
   "execution_count": 26,
   "metadata": {},
   "outputs": [
    {
     "data": {
      "text/plain": [
       "['24875_lucy+maud+montgomery+short+stories+1904.txt',\n",
       " '26060_complete+version+of+ye+three+blind+mice.txt',\n",
       " '23162_no+great+magic.txt',\n",
       " '1257_the+three+musketeers.txt',\n",
       " '2059_the+little+shepherd+of+kingdom+come.txt']"
      ]
     },
     "execution_count": 26,
     "metadata": {},
     "output_type": "execute_result"
    }
   ],
   "source": [
    "Y_test_books[:5]"
   ]
  },
  {
   "cell_type": "code",
   "execution_count": 27,
   "metadata": {},
   "outputs": [
    {
     "data": {
      "text/plain": [
       "array(['Short_stories', 'Poetry', 'Science_fiction', 'Historical_fiction',\n",
       "       'Historical_fiction'], dtype=object)"
      ]
     },
     "execution_count": 27,
     "metadata": {},
     "output_type": "execute_result"
    }
   ],
   "source": [
    "Y_test_Genre[:5]"
   ]
  },
  {
   "cell_type": "markdown",
   "metadata": {},
   "source": [
    "###  Load model and predict"
   ]
  },
  {
   "cell_type": "code",
   "execution_count": 28,
   "metadata": {},
   "outputs": [],
   "source": [
    "experiment = ExperimentSentimentAttentionMT(train_Xs=X_train, train_Ys=Y_train, val_Xs=X_val, val_Ys=Y_val,\n",
    "                                          test_Xs=X_test,\n",
    "                                          test_Ys=Y_test, le=le,\n",
    "                                          params=param,\n",
    "                                          name='att_MT_')"
   ]
  },
  {
   "cell_type": "code",
   "execution_count": 29,
   "metadata": {},
   "outputs": [
    {
     "name": "stderr",
     "output_type": "stream",
     "text": [
      "/anaconda3/lib/python3.6/site-packages/keras/layers/recurrent.py:1550: UserWarning: RNN dropout is no longer supported with the Theano backend due to technical limitations. You can either set `dropout` and `recurrent_dropout` to 0, or use the TensorFlow backend.\n",
      "  'RNN dropout is no longer supported with the Theano backend '\n"
     ]
    },
    {
     "name": "stdout",
     "output_type": "stream",
     "text": [
      "MT prediction task\n",
      "F1 Weighted Score: 0.6896466217917353\n"
     ]
    }
   ],
   "source": [
    "exp_model_path=model_root+model\n",
    "experiment.predict(checked_model_path=exp_model_path,settings=param)"
   ]
  },
  {
   "cell_type": "code",
   "execution_count": 30,
   "metadata": {},
   "outputs": [
    {
     "name": "stderr",
     "output_type": "stream",
     "text": [
      "/anaconda3/lib/python3.6/site-packages/keras/layers/recurrent.py:1550: UserWarning: RNN dropout is no longer supported with the Theano backend due to technical limitations. You can either set `dropout` and `recurrent_dropout` to 0, or use the TensorFlow backend.\n",
      "  'RNN dropout is no longer supported with the Theano backend '\n"
     ]
    },
    {
     "name": "stdout",
     "output_type": "stream",
     "text": [
      "MT prediction task\n",
      "F1 Weighted Score: 0.6896466217917353\n"
     ]
    }
   ],
   "source": [
    "from keras.models import load_model\n",
    "\n",
    "model=experiment.create_model(param)\n",
    "model.load_weights(exp_model_path)\n",
    "Y_test_pred = model.predict(X_test)\n",
    "if len(Y_test_pred) == 2:\n",
    "    print(\"MT prediction task\")\n",
    "    Y_test_pred = Y_test_pred[0].flatten()\n",
    "Y_test_pred = np.array([1 if y > 0.5 else 0 for y in Y_test_pred])\n",
    "\n",
    "print (\"F1 Weighted Score: {}\".format(f1_score(Y_test['success_output'].flatten(),\n",
    "                                          Y_test_pred.flatten(), average='weighted', pos_label=None)))"
   ]
  },
  {
   "cell_type": "markdown",
   "metadata": {},
   "source": [
    "## Analysis"
   ]
  },
  {
   "cell_type": "markdown",
   "metadata": {},
   "source": [
    "### Attention"
   ]
  },
  {
   "cell_type": "code",
   "execution_count": 33,
   "metadata": {},
   "outputs": [
    {
     "name": "stdout",
     "output_type": "stream",
     "text": [
      "<keras.engine.topology.InputLayer object at 0x1c21aaf7f0>\n",
      "<keras.layers.wrappers.Bidirectional object at 0x1c21aafb00>\n",
      "<deep_learning.layers.attention.MLPAttention object at 0x1c21aafd30>\n",
      "<keras.layers.core.Dropout object at 0x1c21aa26a0>\n",
      "<keras.layers.core.Dense object at 0x1c21cf8f28>\n",
      "<keras.layers.core.Dense object at 0x1c21c00a20>\n"
     ]
    }
   ],
   "source": [
    "for layer in model.layers:\n",
    "    print (layer)"
   ]
  },
  {
   "cell_type": "code",
   "execution_count": 34,
   "metadata": {},
   "outputs": [
    {
     "name": "stdout",
     "output_type": "stream",
     "text": [
      "dict_keys(['nrc_mean_sd_50_all'])\n"
     ]
    }
   ],
   "source": [
    "from keras import backend as K\n",
    "\n",
    "inputs=X_train.keys()\n",
    "print (inputs)"
   ]
  },
  {
   "cell_type": "code",
   "execution_count": 35,
   "metadata": {},
   "outputs": [],
   "source": [
    "## function to extract attention weights\n",
    "attention_func = K.function([model.get_layer(function_in).input for function_in in inputs]+[ K.learning_phase()], [model.layers[2].attention_param])\n",
    "attention = attention_func([X_test[function_in]  for function_in in inputs]+[ 0])[0]"
   ]
  },
  {
   "cell_type": "code",
   "execution_count": 36,
   "metadata": {},
   "outputs": [
    {
     "data": {
      "text/plain": [
       "(290, 50)"
      ]
     },
     "execution_count": 36,
     "metadata": {},
     "output_type": "execute_result"
    }
   ],
   "source": [
    "attention.shape"
   ]
  },
  {
   "cell_type": "code",
   "execution_count": 37,
   "metadata": {},
   "outputs": [],
   "source": [
    "import pandas as pd\n",
    "columns= ['chunk_{}'.format(i) for i in range(50)]\n",
    "df=pd.DataFrame(attention, columns=columns)"
   ]
  },
  {
   "cell_type": "code",
   "execution_count": 38,
   "metadata": {},
   "outputs": [
    {
     "data": {
      "text/html": [
       "<div>\n",
       "<style scoped>\n",
       "    .dataframe tbody tr th:only-of-type {\n",
       "        vertical-align: middle;\n",
       "    }\n",
       "\n",
       "    .dataframe tbody tr th {\n",
       "        vertical-align: top;\n",
       "    }\n",
       "\n",
       "    .dataframe thead th {\n",
       "        text-align: right;\n",
       "    }\n",
       "</style>\n",
       "<table border=\"1\" class=\"dataframe\">\n",
       "  <thead>\n",
       "    <tr style=\"text-align: right;\">\n",
       "      <th></th>\n",
       "      <th>chunk_0</th>\n",
       "      <th>chunk_1</th>\n",
       "      <th>chunk_2</th>\n",
       "      <th>chunk_3</th>\n",
       "      <th>chunk_4</th>\n",
       "      <th>chunk_5</th>\n",
       "      <th>chunk_6</th>\n",
       "      <th>chunk_7</th>\n",
       "      <th>chunk_8</th>\n",
       "      <th>chunk_9</th>\n",
       "      <th>...</th>\n",
       "      <th>chunk_40</th>\n",
       "      <th>chunk_41</th>\n",
       "      <th>chunk_42</th>\n",
       "      <th>chunk_43</th>\n",
       "      <th>chunk_44</th>\n",
       "      <th>chunk_45</th>\n",
       "      <th>chunk_46</th>\n",
       "      <th>chunk_47</th>\n",
       "      <th>chunk_48</th>\n",
       "      <th>chunk_49</th>\n",
       "    </tr>\n",
       "  </thead>\n",
       "  <tbody>\n",
       "    <tr>\n",
       "      <th>0</th>\n",
       "      <td>1.001969e-10</td>\n",
       "      <td>9.844875e-11</td>\n",
       "      <td>2.222465e-10</td>\n",
       "      <td>1.884822e-10</td>\n",
       "      <td>2.149494e-10</td>\n",
       "      <td>3.222910e-10</td>\n",
       "      <td>1.207343e-09</td>\n",
       "      <td>1.174658e-09</td>\n",
       "      <td>3.416601e-09</td>\n",
       "      <td>1.006440e-09</td>\n",
       "      <td>...</td>\n",
       "      <td>1.957075e-08</td>\n",
       "      <td>6.826253e-08</td>\n",
       "      <td>5.851446e-08</td>\n",
       "      <td>8.425395e-07</td>\n",
       "      <td>1.925626e-06</td>\n",
       "      <td>2.676101e-05</td>\n",
       "      <td>1.598399e-05</td>\n",
       "      <td>3.012401e-04</td>\n",
       "      <td>7.863758e-01</td>\n",
       "      <td>2.132766e-01</td>\n",
       "    </tr>\n",
       "    <tr>\n",
       "      <th>1</th>\n",
       "      <td>5.936199e-18</td>\n",
       "      <td>1.180396e-17</td>\n",
       "      <td>5.123093e-15</td>\n",
       "      <td>1.170824e-14</td>\n",
       "      <td>5.246900e-02</td>\n",
       "      <td>4.265979e-08</td>\n",
       "      <td>9.468169e-01</td>\n",
       "      <td>4.232991e-04</td>\n",
       "      <td>2.507066e-15</td>\n",
       "      <td>3.160844e-18</td>\n",
       "      <td>...</td>\n",
       "      <td>5.251179e-19</td>\n",
       "      <td>2.275957e-19</td>\n",
       "      <td>2.079196e-18</td>\n",
       "      <td>1.056391e-17</td>\n",
       "      <td>1.328138e-17</td>\n",
       "      <td>1.853267e-17</td>\n",
       "      <td>2.849644e-17</td>\n",
       "      <td>8.916560e-18</td>\n",
       "      <td>3.076869e-15</td>\n",
       "      <td>3.907252e-08</td>\n",
       "    </tr>\n",
       "    <tr>\n",
       "      <th>2</th>\n",
       "      <td>4.327988e-11</td>\n",
       "      <td>6.193198e-11</td>\n",
       "      <td>2.441042e-11</td>\n",
       "      <td>4.271535e-10</td>\n",
       "      <td>5.340319e-10</td>\n",
       "      <td>1.590431e-09</td>\n",
       "      <td>8.057023e-10</td>\n",
       "      <td>1.478734e-07</td>\n",
       "      <td>7.094236e-09</td>\n",
       "      <td>1.284879e-09</td>\n",
       "      <td>...</td>\n",
       "      <td>5.666903e-07</td>\n",
       "      <td>3.287806e-07</td>\n",
       "      <td>5.805897e-06</td>\n",
       "      <td>1.668260e-06</td>\n",
       "      <td>1.396624e-05</td>\n",
       "      <td>6.995697e-03</td>\n",
       "      <td>2.856691e-04</td>\n",
       "      <td>2.217593e-03</td>\n",
       "      <td>4.600908e-02</td>\n",
       "      <td>9.441855e-01</td>\n",
       "    </tr>\n",
       "    <tr>\n",
       "      <th>3</th>\n",
       "      <td>1.549762e-09</td>\n",
       "      <td>1.660883e-09</td>\n",
       "      <td>1.963961e-09</td>\n",
       "      <td>6.666777e-10</td>\n",
       "      <td>1.490872e-09</td>\n",
       "      <td>4.597545e-09</td>\n",
       "      <td>6.157264e-10</td>\n",
       "      <td>2.063969e-09</td>\n",
       "      <td>1.004824e-09</td>\n",
       "      <td>1.729201e-09</td>\n",
       "      <td>...</td>\n",
       "      <td>9.419564e-05</td>\n",
       "      <td>4.094535e-05</td>\n",
       "      <td>4.788850e-05</td>\n",
       "      <td>7.979377e-06</td>\n",
       "      <td>9.768696e-05</td>\n",
       "      <td>1.429257e-04</td>\n",
       "      <td>4.404096e-05</td>\n",
       "      <td>5.918711e-04</td>\n",
       "      <td>1.213887e-01</td>\n",
       "      <td>8.775212e-01</td>\n",
       "    </tr>\n",
       "    <tr>\n",
       "      <th>4</th>\n",
       "      <td>1.370869e-08</td>\n",
       "      <td>3.365699e-06</td>\n",
       "      <td>6.699359e-08</td>\n",
       "      <td>8.825647e-08</td>\n",
       "      <td>3.121560e-05</td>\n",
       "      <td>1.356873e-07</td>\n",
       "      <td>6.074293e-08</td>\n",
       "      <td>2.523069e-08</td>\n",
       "      <td>5.696003e-09</td>\n",
       "      <td>2.376223e-09</td>\n",
       "      <td>...</td>\n",
       "      <td>2.019912e-05</td>\n",
       "      <td>2.747540e-04</td>\n",
       "      <td>1.841969e-04</td>\n",
       "      <td>9.816614e-05</td>\n",
       "      <td>3.055416e-04</td>\n",
       "      <td>2.647441e-03</td>\n",
       "      <td>1.746789e-04</td>\n",
       "      <td>1.567965e-01</td>\n",
       "      <td>4.354702e-02</td>\n",
       "      <td>7.958477e-01</td>\n",
       "    </tr>\n",
       "  </tbody>\n",
       "</table>\n",
       "<p>5 rows × 50 columns</p>\n",
       "</div>"
      ],
      "text/plain": [
       "        chunk_0       chunk_1       chunk_2       chunk_3       chunk_4  \\\n",
       "0  1.001969e-10  9.844875e-11  2.222465e-10  1.884822e-10  2.149494e-10   \n",
       "1  5.936199e-18  1.180396e-17  5.123093e-15  1.170824e-14  5.246900e-02   \n",
       "2  4.327988e-11  6.193198e-11  2.441042e-11  4.271535e-10  5.340319e-10   \n",
       "3  1.549762e-09  1.660883e-09  1.963961e-09  6.666777e-10  1.490872e-09   \n",
       "4  1.370869e-08  3.365699e-06  6.699359e-08  8.825647e-08  3.121560e-05   \n",
       "\n",
       "        chunk_5       chunk_6       chunk_7       chunk_8       chunk_9  \\\n",
       "0  3.222910e-10  1.207343e-09  1.174658e-09  3.416601e-09  1.006440e-09   \n",
       "1  4.265979e-08  9.468169e-01  4.232991e-04  2.507066e-15  3.160844e-18   \n",
       "2  1.590431e-09  8.057023e-10  1.478734e-07  7.094236e-09  1.284879e-09   \n",
       "3  4.597545e-09  6.157264e-10  2.063969e-09  1.004824e-09  1.729201e-09   \n",
       "4  1.356873e-07  6.074293e-08  2.523069e-08  5.696003e-09  2.376223e-09   \n",
       "\n",
       "       ...           chunk_40      chunk_41      chunk_42      chunk_43  \\\n",
       "0      ...       1.957075e-08  6.826253e-08  5.851446e-08  8.425395e-07   \n",
       "1      ...       5.251179e-19  2.275957e-19  2.079196e-18  1.056391e-17   \n",
       "2      ...       5.666903e-07  3.287806e-07  5.805897e-06  1.668260e-06   \n",
       "3      ...       9.419564e-05  4.094535e-05  4.788850e-05  7.979377e-06   \n",
       "4      ...       2.019912e-05  2.747540e-04  1.841969e-04  9.816614e-05   \n",
       "\n",
       "       chunk_44      chunk_45      chunk_46      chunk_47      chunk_48  \\\n",
       "0  1.925626e-06  2.676101e-05  1.598399e-05  3.012401e-04  7.863758e-01   \n",
       "1  1.328138e-17  1.853267e-17  2.849644e-17  8.916560e-18  3.076869e-15   \n",
       "2  1.396624e-05  6.995697e-03  2.856691e-04  2.217593e-03  4.600908e-02   \n",
       "3  9.768696e-05  1.429257e-04  4.404096e-05  5.918711e-04  1.213887e-01   \n",
       "4  3.055416e-04  2.647441e-03  1.746789e-04  1.567965e-01  4.354702e-02   \n",
       "\n",
       "       chunk_49  \n",
       "0  2.132766e-01  \n",
       "1  3.907252e-08  \n",
       "2  9.441855e-01  \n",
       "3  8.775212e-01  \n",
       "4  7.958477e-01  \n",
       "\n",
       "[5 rows x 50 columns]"
      ]
     },
     "execution_count": 38,
     "metadata": {},
     "output_type": "execute_result"
    }
   ],
   "source": [
    "df.head()"
   ]
  },
  {
   "cell_type": "markdown",
   "metadata": {},
   "source": [
    "#### ADD the book title, genre and success labels to the df"
   ]
  },
  {
   "cell_type": "code",
   "execution_count": 39,
   "metadata": {},
   "outputs": [],
   "source": [
    "df['Book']=Y_test_books\n",
    "df['Genre']=Y_test_Genre\n",
    "df['Actual']=Y_test['success_output'].flatten()\n",
    "df['Predicted']=Y_test_pred"
   ]
  },
  {
   "cell_type": "code",
   "execution_count": 40,
   "metadata": {},
   "outputs": [
    {
     "data": {
      "text/html": [
       "<div>\n",
       "<style scoped>\n",
       "    .dataframe tbody tr th:only-of-type {\n",
       "        vertical-align: middle;\n",
       "    }\n",
       "\n",
       "    .dataframe tbody tr th {\n",
       "        vertical-align: top;\n",
       "    }\n",
       "\n",
       "    .dataframe thead th {\n",
       "        text-align: right;\n",
       "    }\n",
       "</style>\n",
       "<table border=\"1\" class=\"dataframe\">\n",
       "  <thead>\n",
       "    <tr style=\"text-align: right;\">\n",
       "      <th></th>\n",
       "      <th>chunk_0</th>\n",
       "      <th>chunk_1</th>\n",
       "      <th>chunk_2</th>\n",
       "      <th>chunk_3</th>\n",
       "      <th>chunk_4</th>\n",
       "      <th>chunk_5</th>\n",
       "      <th>chunk_6</th>\n",
       "      <th>chunk_7</th>\n",
       "      <th>chunk_8</th>\n",
       "      <th>chunk_9</th>\n",
       "      <th>...</th>\n",
       "      <th>chunk_44</th>\n",
       "      <th>chunk_45</th>\n",
       "      <th>chunk_46</th>\n",
       "      <th>chunk_47</th>\n",
       "      <th>chunk_48</th>\n",
       "      <th>chunk_49</th>\n",
       "      <th>Book</th>\n",
       "      <th>Genre</th>\n",
       "      <th>Actual</th>\n",
       "      <th>Predicted</th>\n",
       "    </tr>\n",
       "  </thead>\n",
       "  <tbody>\n",
       "    <tr>\n",
       "      <th>0</th>\n",
       "      <td>1.001969e-10</td>\n",
       "      <td>9.844875e-11</td>\n",
       "      <td>2.222465e-10</td>\n",
       "      <td>1.884822e-10</td>\n",
       "      <td>2.149494e-10</td>\n",
       "      <td>3.222910e-10</td>\n",
       "      <td>1.207343e-09</td>\n",
       "      <td>1.174658e-09</td>\n",
       "      <td>3.416601e-09</td>\n",
       "      <td>1.006440e-09</td>\n",
       "      <td>...</td>\n",
       "      <td>1.925626e-06</td>\n",
       "      <td>2.676101e-05</td>\n",
       "      <td>1.598399e-05</td>\n",
       "      <td>3.012401e-04</td>\n",
       "      <td>7.863758e-01</td>\n",
       "      <td>2.132766e-01</td>\n",
       "      <td>24875_lucy+maud+montgomery+short+stories+1904.txt</td>\n",
       "      <td>Short_stories</td>\n",
       "      <td>1</td>\n",
       "      <td>1</td>\n",
       "    </tr>\n",
       "    <tr>\n",
       "      <th>1</th>\n",
       "      <td>5.936199e-18</td>\n",
       "      <td>1.180396e-17</td>\n",
       "      <td>5.123093e-15</td>\n",
       "      <td>1.170824e-14</td>\n",
       "      <td>5.246900e-02</td>\n",
       "      <td>4.265979e-08</td>\n",
       "      <td>9.468169e-01</td>\n",
       "      <td>4.232991e-04</td>\n",
       "      <td>2.507066e-15</td>\n",
       "      <td>3.160844e-18</td>\n",
       "      <td>...</td>\n",
       "      <td>1.328138e-17</td>\n",
       "      <td>1.853267e-17</td>\n",
       "      <td>2.849644e-17</td>\n",
       "      <td>8.916560e-18</td>\n",
       "      <td>3.076869e-15</td>\n",
       "      <td>3.907252e-08</td>\n",
       "      <td>26060_complete+version+of+ye+three+blind+mice.txt</td>\n",
       "      <td>Poetry</td>\n",
       "      <td>0</td>\n",
       "      <td>1</td>\n",
       "    </tr>\n",
       "    <tr>\n",
       "      <th>2</th>\n",
       "      <td>4.327988e-11</td>\n",
       "      <td>6.193198e-11</td>\n",
       "      <td>2.441042e-11</td>\n",
       "      <td>4.271535e-10</td>\n",
       "      <td>5.340319e-10</td>\n",
       "      <td>1.590431e-09</td>\n",
       "      <td>8.057023e-10</td>\n",
       "      <td>1.478734e-07</td>\n",
       "      <td>7.094236e-09</td>\n",
       "      <td>1.284879e-09</td>\n",
       "      <td>...</td>\n",
       "      <td>1.396624e-05</td>\n",
       "      <td>6.995697e-03</td>\n",
       "      <td>2.856691e-04</td>\n",
       "      <td>2.217593e-03</td>\n",
       "      <td>4.600908e-02</td>\n",
       "      <td>9.441855e-01</td>\n",
       "      <td>23162_no+great+magic.txt</td>\n",
       "      <td>Science_fiction</td>\n",
       "      <td>0</td>\n",
       "      <td>0</td>\n",
       "    </tr>\n",
       "    <tr>\n",
       "      <th>3</th>\n",
       "      <td>1.549762e-09</td>\n",
       "      <td>1.660883e-09</td>\n",
       "      <td>1.963961e-09</td>\n",
       "      <td>6.666777e-10</td>\n",
       "      <td>1.490872e-09</td>\n",
       "      <td>4.597545e-09</td>\n",
       "      <td>6.157264e-10</td>\n",
       "      <td>2.063969e-09</td>\n",
       "      <td>1.004824e-09</td>\n",
       "      <td>1.729201e-09</td>\n",
       "      <td>...</td>\n",
       "      <td>9.768696e-05</td>\n",
       "      <td>1.429257e-04</td>\n",
       "      <td>4.404096e-05</td>\n",
       "      <td>5.918711e-04</td>\n",
       "      <td>1.213887e-01</td>\n",
       "      <td>8.775212e-01</td>\n",
       "      <td>1257_the+three+musketeers.txt</td>\n",
       "      <td>Historical_fiction</td>\n",
       "      <td>1</td>\n",
       "      <td>1</td>\n",
       "    </tr>\n",
       "    <tr>\n",
       "      <th>4</th>\n",
       "      <td>1.370869e-08</td>\n",
       "      <td>3.365699e-06</td>\n",
       "      <td>6.699359e-08</td>\n",
       "      <td>8.825647e-08</td>\n",
       "      <td>3.121560e-05</td>\n",
       "      <td>1.356873e-07</td>\n",
       "      <td>6.074293e-08</td>\n",
       "      <td>2.523069e-08</td>\n",
       "      <td>5.696003e-09</td>\n",
       "      <td>2.376223e-09</td>\n",
       "      <td>...</td>\n",
       "      <td>3.055416e-04</td>\n",
       "      <td>2.647441e-03</td>\n",
       "      <td>1.746789e-04</td>\n",
       "      <td>1.567965e-01</td>\n",
       "      <td>4.354702e-02</td>\n",
       "      <td>7.958477e-01</td>\n",
       "      <td>2059_the+little+shepherd+of+kingdom+come.txt</td>\n",
       "      <td>Historical_fiction</td>\n",
       "      <td>1</td>\n",
       "      <td>1</td>\n",
       "    </tr>\n",
       "  </tbody>\n",
       "</table>\n",
       "<p>5 rows × 54 columns</p>\n",
       "</div>"
      ],
      "text/plain": [
       "        chunk_0       chunk_1       chunk_2       chunk_3       chunk_4  \\\n",
       "0  1.001969e-10  9.844875e-11  2.222465e-10  1.884822e-10  2.149494e-10   \n",
       "1  5.936199e-18  1.180396e-17  5.123093e-15  1.170824e-14  5.246900e-02   \n",
       "2  4.327988e-11  6.193198e-11  2.441042e-11  4.271535e-10  5.340319e-10   \n",
       "3  1.549762e-09  1.660883e-09  1.963961e-09  6.666777e-10  1.490872e-09   \n",
       "4  1.370869e-08  3.365699e-06  6.699359e-08  8.825647e-08  3.121560e-05   \n",
       "\n",
       "        chunk_5       chunk_6       chunk_7       chunk_8       chunk_9  \\\n",
       "0  3.222910e-10  1.207343e-09  1.174658e-09  3.416601e-09  1.006440e-09   \n",
       "1  4.265979e-08  9.468169e-01  4.232991e-04  2.507066e-15  3.160844e-18   \n",
       "2  1.590431e-09  8.057023e-10  1.478734e-07  7.094236e-09  1.284879e-09   \n",
       "3  4.597545e-09  6.157264e-10  2.063969e-09  1.004824e-09  1.729201e-09   \n",
       "4  1.356873e-07  6.074293e-08  2.523069e-08  5.696003e-09  2.376223e-09   \n",
       "\n",
       "     ...          chunk_44      chunk_45      chunk_46      chunk_47  \\\n",
       "0    ...      1.925626e-06  2.676101e-05  1.598399e-05  3.012401e-04   \n",
       "1    ...      1.328138e-17  1.853267e-17  2.849644e-17  8.916560e-18   \n",
       "2    ...      1.396624e-05  6.995697e-03  2.856691e-04  2.217593e-03   \n",
       "3    ...      9.768696e-05  1.429257e-04  4.404096e-05  5.918711e-04   \n",
       "4    ...      3.055416e-04  2.647441e-03  1.746789e-04  1.567965e-01   \n",
       "\n",
       "       chunk_48      chunk_49  \\\n",
       "0  7.863758e-01  2.132766e-01   \n",
       "1  3.076869e-15  3.907252e-08   \n",
       "2  4.600908e-02  9.441855e-01   \n",
       "3  1.213887e-01  8.775212e-01   \n",
       "4  4.354702e-02  7.958477e-01   \n",
       "\n",
       "                                                Book               Genre  \\\n",
       "0  24875_lucy+maud+montgomery+short+stories+1904.txt       Short_stories   \n",
       "1  26060_complete+version+of+ye+three+blind+mice.txt              Poetry   \n",
       "2                           23162_no+great+magic.txt     Science_fiction   \n",
       "3                      1257_the+three+musketeers.txt  Historical_fiction   \n",
       "4       2059_the+little+shepherd+of+kingdom+come.txt  Historical_fiction   \n",
       "\n",
       "   Actual  Predicted  \n",
       "0       1          1  \n",
       "1       0          1  \n",
       "2       0          0  \n",
       "3       1          1  \n",
       "4       1          1  \n",
       "\n",
       "[5 rows x 54 columns]"
      ]
     },
     "execution_count": 40,
     "metadata": {},
     "output_type": "execute_result"
    }
   ],
   "source": [
    "df.head()"
   ]
  },
  {
   "cell_type": "markdown",
   "metadata": {},
   "source": [
    "#### Group by genre"
   ]
  },
  {
   "cell_type": "code",
   "execution_count": 41,
   "metadata": {},
   "outputs": [],
   "source": [
    "genre_mean=df.groupby('Genre').mean()"
   ]
  },
  {
   "cell_type": "code",
   "execution_count": 52,
   "metadata": {},
   "outputs": [],
   "source": [
    "from sklearn.preprocessing import normalize,minmax_scale\n",
    "\n",
    "genre_norm_df=genre_mean.copy()\n",
    "genre_norm_df[columns]=normalize(genre_mean[columns],axis=1, norm='max')\n",
    "\n",
    "columns_plot= [x.replace('chunk_','') for x in columns]\n",
    "genre_norm_df.rename(columns=dict(zip(columns,columns_plot)), inplace=True)"
   ]
  },
  {
   "cell_type": "code",
   "execution_count": 53,
   "metadata": {},
   "outputs": [
    {
     "data": {
      "text/plain": [
       "Text(0.5,15,'Chunks')"
      ]
     },
     "execution_count": 53,
     "metadata": {},
     "output_type": "execute_result"
    },
    {
     "data": {
      "image/png": "[encoded data removed]",
      "text/plain": [
       "<Figure size 432x288 with 2 Axes>"
      ]
     },
     "metadata": {},
     "output_type": "display_data"
    }
   ],
   "source": [
    "\n",
    "ax=sns.heatmap(genre_norm_df[columns_plot],linewidths=0.05,cmap='Greys',vmin=0, vmax=1,fmt=\"d\",center=0.5)\n",
    "# cbar = ax.figure.colorbar(ax.collections[0])\n",
    "# cbar(aspect=20)\n",
    "ax.hlines([0, 1, 2,3,4,5,6,7], colors='#cdcdcd', linewidth=1, *ax.get_xlim())\n",
    "ax.axvline(0, linewidth=1, c='#cdcdcd')\n",
    "ax.axhline(8, linewidth=3, c='#cdcdcd')\n",
    "# ax.axhline(8, linewidth=3, c='b')\n",
    "\n",
    "ax.set_xticklabels(ax.get_xticklabels(),rotation=0,ha='right')\n",
    "ax.set_ylabel('Genre')\n",
    "ax.set(xticks=[5,10,15,20,25,30,35,40,45,50], xticklabels=[5,10,15,20,25,30,35,40,45,50])\n",
    "#ax.set_xticklabels([0,5,10,15,20,25,30,35,45,49])\n",
    "ax.set_xlabel('Chunks')\n",
    "# ax.set_aspect(\"equal\")"
   ]
  },
  {
   "cell_type": "code",
   "execution_count": null,
   "metadata": {},
   "outputs": [],
   "source": []
  }
 ],
 "metadata": {
  "kernelspec": {
   "display_name": "Python 3",
   "language": "python",
   "name": "python3"
  },
  "language_info": {
   "codemirror_mode": {
    "name": "ipython",
    "version": 3
   },
   "file_extension": ".py",
   "mimetype": "text/x-python",
   "name": "python",
   "nbconvert_exporter": "python",
   "pygments_lexer": "ipython3",
   "version": "3.6.5"
  }
 },
 "nbformat": 4,
 "nbformat_minor": 2
}
